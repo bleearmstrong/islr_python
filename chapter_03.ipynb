{
 "cells": [
  {
   "cell_type": "markdown",
   "metadata": {},
   "source": [
    "Trying to get a better understanding of various data analysis packages in Python, I thought it would be a good idea to work through the ISLR, using Python instead of R. Many default tools in R are only available as outside packages in Python, so in many cases, it won't be as easy to do this in Python, but it shouldn't be too difficult. We'll start with the exercises found in the applied section in chapter 3."
   ]
  },
  {
   "cell_type": "markdown",
   "metadata": {},
   "source": [
    "**8: This question involves the use of simple linear regression on the Auto\n",
    "data set.**\n",
    "\n",
    "**(a) Use the lm() function to perform a simple linear regression with\n",
    "mpg as the response and horsepower as the predictor. Use the\n",
    "summary() function to print the results. Comment on the output.\n",
    "For example:**\n",
    "\n",
    "**i. Is there a relationship between the predictor and the response?**\n",
    "\n",
    "**ii. How strong is the relationship between the predictor and\n",
    "the response?**\n",
    "\n",
    "**iii. Is the relationship between the predictor and the response\n",
    "positive or negative?**\n",
    "\n",
    "**iv. What is the predicted mpg associated with a horsepower of\n",
    "98? What are the associated 95% confidence and prediction\n",
    "intervals?**"
   ]
  }
 ],
 "metadata": {},
 "nbformat": 4,
 "nbformat_minor": 0
}