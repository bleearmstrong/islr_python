{
 "cells": [
  {
   "cell_type": "markdown",
   "metadata": {},
   "source": [
    "Trying to get a better understanding of various data analysis packages in Python, I thought it would be a good idea to work through the ISLR, using Python instead of R. Many default tools in R are only available as outside packages in Python, so in many cases, it won't be as easy to do this in Python, but it shouldn't be too difficult. We'll start with the exercises found in the applied section in chapter 3."
   ]
  },
  {
   "cell_type": "markdown",
   "metadata": {},
   "source": [
    "**8: This question involves the use of simple linear regression on the Auto data set.**\n",
    "\n",
    "**(a) Use the lm() function to perform a simple linear regression with mpg as the response and horsepower as the predictor. Use the summary() function to print the results. Comment on the output. For example:**\n",
    "\n",
    "**i. Is there a relationship between the predictor and the response?**\n",
    "\n",
    "**ii. How strong is the relationship between the predictor and the response?**\n",
    "\n",
    "**iii. Is the relationship between the predictor and the response positive or negative?**\n",
    "\n",
    "**iv. What is the predicted mpg associated with a horsepower of 98? What are the associated 95% confidence and prediction intervals?**"
   ]
  },
  {
   "cell_type": "code",
   "execution_count": 8,
   "metadata": {},
   "outputs": [
    {
     "data": {
      "text/html": [
       "<div>\n",
       "<table border=\"1\" class=\"dataframe\">\n",
       "  <thead>\n",
       "    <tr style=\"text-align: right;\">\n",
       "      <th></th>\n",
       "      <th>mpg</th>\n",
       "      <th>cylinders</th>\n",
       "      <th>displacement</th>\n",
       "      <th>horsepower</th>\n",
       "      <th>weight</th>\n",
       "      <th>acceleration</th>\n",
       "      <th>year</th>\n",
       "      <th>origin</th>\n",
       "      <th>name</th>\n",
       "    </tr>\n",
       "  </thead>\n",
       "  <tbody>\n",
       "    <tr>\n",
       "      <th>0</th>\n",
       "      <td>18</td>\n",
       "      <td>8</td>\n",
       "      <td>307</td>\n",
       "      <td>130</td>\n",
       "      <td>3504</td>\n",
       "      <td>12.0</td>\n",
       "      <td>70</td>\n",
       "      <td>1</td>\n",
       "      <td>chevrolet chevelle malibu</td>\n",
       "    </tr>\n",
       "    <tr>\n",
       "      <th>1</th>\n",
       "      <td>15</td>\n",
       "      <td>8</td>\n",
       "      <td>350</td>\n",
       "      <td>165</td>\n",
       "      <td>3693</td>\n",
       "      <td>11.5</td>\n",
       "      <td>70</td>\n",
       "      <td>1</td>\n",
       "      <td>buick skylark 320</td>\n",
       "    </tr>\n",
       "    <tr>\n",
       "      <th>2</th>\n",
       "      <td>18</td>\n",
       "      <td>8</td>\n",
       "      <td>318</td>\n",
       "      <td>150</td>\n",
       "      <td>3436</td>\n",
       "      <td>11.0</td>\n",
       "      <td>70</td>\n",
       "      <td>1</td>\n",
       "      <td>plymouth satellite</td>\n",
       "    </tr>\n",
       "    <tr>\n",
       "      <th>3</th>\n",
       "      <td>16</td>\n",
       "      <td>8</td>\n",
       "      <td>304</td>\n",
       "      <td>150</td>\n",
       "      <td>3433</td>\n",
       "      <td>12.0</td>\n",
       "      <td>70</td>\n",
       "      <td>1</td>\n",
       "      <td>amc rebel sst</td>\n",
       "    </tr>\n",
       "    <tr>\n",
       "      <th>4</th>\n",
       "      <td>17</td>\n",
       "      <td>8</td>\n",
       "      <td>302</td>\n",
       "      <td>140</td>\n",
       "      <td>3449</td>\n",
       "      <td>10.5</td>\n",
       "      <td>70</td>\n",
       "      <td>1</td>\n",
       "      <td>ford torino</td>\n",
       "    </tr>\n",
       "  </tbody>\n",
       "</table>\n",
       "</div>"
      ]
     },
     "output_type": "execute_result",
     "metadata": {}
    }
   ],
   "source": [
    "import pandas as pd\n",
    "import matplotlib.pyplot as plt\n",
    "import statsmodels.api as sm\n",
    "\n",
    "# use ggplot style graphics\n",
    "plt.style.use('ggplot')\n",
    "\n",
    "# change the options so that we get the data in wide form with no wrap\n",
    "pd.set_option('expand_frame_repr', False)\n",
    "\n",
    "# read in the data, and take a look at the first few rows\n",
    "auto = pd.read_csv('C:/Users/ben/Desktop/islr/auto.csv')\n",
    "auto.head()"
   ]
  },
  {
   "cell_type": "markdown",
   "metadata": {},
   "source": [
    "**(a) Use the lm() function to perform a simple linear regression with mpg as the response and horsepower as the predictor. Use the summary() function to print the results.**\n",
    "\n",
    "Before we fit a model, we should do a quick plot to see if it even makes sense to fit a linear model."
   ]
  },
  {
   "cell_type": "code",
   "execution_count": 2,
   "metadata": {},
   "outputs": [
    {
     "data": {
      "image/png": "[encoded data removed]"
     },
     "output_type": "display_data",
     "text": [
      "<matplotlib.figure.Figure at 0x9f9bc88>"
     ],
     "metadata": {}
    },
    {
     "data": {
      "text/html": [
       "<table class=\"simpletable\">\n",
       "<caption>OLS Regression Results</caption>\n",
       "<tr>\n",
       "  <th>Dep. Variable:</th>           <td>mpg</td>       <th>  R-squared:         </th> <td>   0.606</td>\n",
       "</tr>\n",
       "<tr>\n",
       "  <th>Model:</th>                   <td>OLS</td>       <th>  Adj. R-squared:    </th> <td>   0.605</td>\n",
       "</tr>\n",
       "<tr>\n",
       "  <th>Method:</th>             <td>Least Squares</td>  <th>  F-statistic:       </th> <td>   599.7</td>\n",
       "</tr>\n",
       "<tr>\n",
       "  <th>Date:</th>             <td>Fri, 15 Apr 2016</td> <th>  Prob (F-statistic):</th> <td>7.03e-81</td>\n",
       "</tr>\n",
       "<tr>\n",
       "  <th>Time:</th>                 <td>22:19:16</td>     <th>  Log-Likelihood:    </th> <td> -1178.7</td>\n",
       "</tr>\n",
       "<tr>\n",
       "  <th>No. Observations:</th>      <td>   392</td>      <th>  AIC:               </th> <td>   2361.</td>\n",
       "</tr>\n",
       "<tr>\n",
       "  <th>Df Residuals:</th>          <td>   390</td>      <th>  BIC:               </th> <td>   2369.</td>\n",
       "</tr>\n",
       "<tr>\n",
       "  <th>Df Model:</th>              <td>     1</td>      <th>                     </th>     <td> </td>   \n",
       "</tr>\n",
       "<tr>\n",
       "  <th>Covariance Type:</th>      <td>nonrobust</td>    <th>                     </th>     <td> </td>   \n",
       "</tr>\n",
       "</table>\n",
       "<table class=\"simpletable\">\n",
       "<tr>\n",
       "       <td></td>         <th>coef</th>     <th>std err</th>      <th>t</th>      <th>P>|t|</th> <th>[95.0% Conf. Int.]</th> \n",
       "</tr>\n",
       "<tr>\n",
       "  <th>const</th>      <td>   39.9359</td> <td>    0.717</td> <td>   55.660</td> <td> 0.000</td> <td>   38.525    41.347</td>\n",
       "</tr>\n",
       "<tr>\n",
       "  <th>horsepower</th> <td>   -0.1578</td> <td>    0.006</td> <td>  -24.489</td> <td> 0.000</td> <td>   -0.171    -0.145</td>\n",
       "</tr>\n",
       "</table>\n",
       "<table class=\"simpletable\">\n",
       "<tr>\n",
       "  <th>Omnibus:</th>       <td>16.432</td> <th>  Durbin-Watson:     </th> <td>   0.920</td>\n",
       "</tr>\n",
       "<tr>\n",
       "  <th>Prob(Omnibus):</th> <td> 0.000</td> <th>  Jarque-Bera (JB):  </th> <td>  17.305</td>\n",
       "</tr>\n",
       "<tr>\n",
       "  <th>Skew:</th>          <td> 0.492</td> <th>  Prob(JB):          </th> <td>0.000175</td>\n",
       "</tr>\n",
       "<tr>\n",
       "  <th>Kurtosis:</th>      <td> 3.299</td> <th>  Cond. No.          </th> <td>    322.</td>\n",
       "</tr>\n",
       "</table>"
      ]
     },
     "output_type": "execute_result",
     "metadata": {}
    }
   ],
   "source": [
    "%matplotlib inline\n",
    "plt.figure()\n",
    "plt.plot(auto['horsepower'], auto['mpg'], 'o')\n",
    "plt.show()\n",
    "\n",
    "# Python doesn't have a built-in linear model function, but statsmodels will do\n",
    "# There are some NAs that need to be removed.\n",
    "\n",
    "auto_comp = auto[['horsepower', 'mpg']].dropna()\n",
    "X = auto_comp['horsepower']\n",
    "\n",
    "# To get an intercept in the model, we need to use the add_constant method\n",
    "\n",
    "X = sm.add_constant(X)\n",
    "y = auto_comp['mpg']\n",
    "sm_auto_1 = sm.OLS(y, X)\n",
    "results = sm_auto_1.fit()\n",
    "results.summary()"
   ]
  },
  {
   "cell_type": "markdown",
   "metadata": {},
   "source": [
    "**i. Is there a relationship between the predictor and the response?**\n",
    "\n",
    "There is strong evidence to suggest there is a relationship between the predictor and reponse (the overall F stat is highly significant, as is the t stat for the horsepower coefficient.\n",
    "\n",
    "**ii. How strong is the relationship between the predictor and the response?**\n",
    "\n",
    "The t stat is highly significant (< .001), suggesting a strong relationship.\n",
    "\n",
    "**iii. Is the relationship between the predictor and the response positive or negative?**\n",
    "\n",
    "Looking at the coefficient (-0.1578), it's clearly negative.\n",
    "\n",
    "**iv. What is the predicted mpg associated with a horsepower of 98? What are the associated 95% confidence and prediction intervals?**\n",
    "\n",
    "For this, we need to get into code. Getting the prediction interval isn't difficult, but the confidence interval is."
   ]
  },
  {
   "cell_type": "code",
   "execution_count": 4,
   "metadata": {},
   "outputs": [
    {
     "name": "stdout",
     "output_type": "stream",
     "text": [
      "Prediction: [ 24.46707715]\nlower: [ 14.80939607], upper: [ 34.12475823]\n"
     ]
    }
   ],
   "source": [
    "from statsmodels.sandbox.regression.predstd import wls_prediction_std\n",
    "\n",
    "print('Prediction: {}'.format(results.predict((1, 98))))\n",
    "prdstd, int_l, int_u = wls_prediction_std(results, exog=(1, 98))\n",
    "print('lower: {}, upper: {}'.format(int_l, int_u))"
   ]
  },
  {
   "cell_type": "code",
   "execution_count": 5,
   "metadata": {},
   "outputs": [],
   "source": [
    "# this is a bit clumsy, but I needed to write a function that could do this for me.\n",
    "\n",
    "from scipy import stats\n",
    "\n",
    "def confidence_interval_pred(model, values, point, alpha=0.05):\n",
    "    pred_value = model.fit().predict((1, point))\n",
    "    mse = model.fit().mse_resid\n",
    "    n = len(values)\n",
    "    t_stat = abs(stats.t.ppf(alpha / 2, n - 2))\n",
    "    under_2 = (1 / n) + (point - values.mean()) ** 2 / sum((values - values.mean())**2)\n",
    "    bound = t_stat * (mse * under_2) ** (1/2)\n",
    "    return pred_value, pred_value - bound, pred_value + bound"
   ]
  },
  {
   "cell_type": "code",
   "execution_count": 12,
   "metadata": {},
   "outputs": [
    {
     "name": "stdout",
     "output_type": "stream",
     "text": [
      "Prediction: [ 24.46707715]\nlower: [ 23.97307896], upper: [ 24.96107534]\n"
     ]
    }
   ],
   "source": [
    "pred, int_l, int_u = confidence_interval_pred(sm_auto_1, X['horsepower'], 98)\n",
    "print('Prediction: {}'.format(pred))\n",
    "print('lower: {}, upper: {}'.format(int_l, int_u))"
   ]
  },
  {
   "cell_type": "markdown",
   "metadata": {},
   "source": [
    "**(b) Plot the response and the predictor. Use the abline() function to display the least squares regression line.**"
   ]
  },
  {
   "cell_type": "code",
   "execution_count": 13,
   "metadata": {},
   "outputs": [
    {
     "data": {
      "text/plain": [
       "[<matplotlib.lines.Line2D at 0x7c43c8>]"
      ]
     },
     "execution_count": 13,
     "output_type": "execute_result",
     "metadata": {}
    },
    {
     "data": {
      "image/png": "[encoded data removed]"
     },
     "output_type": "display_data",
     "text": [
      "<matplotlib.figure.Figure at 0x7cc278>"
     ],
     "metadata": {}
    }
   ],
   "source": [
    "import numpy as np\n",
    "\n",
    "X_plot = np.linspace(0, 250 ,100)\n",
    "plt.figure()\n",
    "plt.plot(X['horsepower'], y, 'o')\n",
    "plt.plot(X_plot, X_plot*results.params[1] + results.params[0])"
   ]
  },
  {
   "cell_type": "markdown",
   "metadata": {},
   "source": [
    "**(c) Use the plot() function to produce diagnostic plots of the least squares regression fit. Comment on any problems you see with the fit.**"
   ]
  },
  {
   "cell_type": "code",
   "execution_count": 14,
   "metadata": {},
   "outputs": [],
   "source": [
    "# There is no simple command to call all of them, so we have to do them individually.\n",
    "\n",
    "plt.rcParams['figure.figsize'] = (10, 6)\n",
    "\n",
    "plt.clf()\n",
    "plt.scatter(x=results.fittedvalues, y=results.resid)\n",
    "plt.axhline()\n",
    "plt.title('Residuals vs. Fitted')\n",
    "plt.ylabel('Residuals')\n",
    "plt.xlabel('Fitted Values')\n",
    "plt.show()\n",
    "\n",
    "plt.clf()\n",
    "sm.qqplot(results.resid / results.resid.std(), line='q')\n",
    "plt.title('Normal QQ')\n",
    "plt.ylabel('Studentized Residuals')\n",
    "plt.xlabel('Theoretical Quantiles')\n",
    "plt.show()\n",
    "\n",
    "plt.clf()\n",
    "plt.scatter(x=results.fittedvalues, y = (results.resid / results.resid.std())**(.5))\n",
    "plt.title('Scale-Location')\n",
    "plt.ylabel('sqrt(Standardized Residuals)')\n",
    "plt.xlabel('Fitted Values')\n",
    "plt.show()\n",
    "\n",
    "plt.clf()\n",
    "sm.graphics.influence_plot(results, criterion=\"cooks\")\n",
    "# the graph isn't appearing scaled correctly, so the xlimits have to be set manually\n",
    "# (this value was found after calling the plot initially)\n",
    "plt.xlim(0, 0.04)\n",
    "plt.show()"
   ]
  },
  {
   "cell_type": "code",
   "execution_count": null,
   "metadata": {},
   "outputs": [],
   "source": [
    ""
   ]
  }
 ],
 "metadata": {},
 "nbformat": 4,
 "nbformat_minor": 0
}